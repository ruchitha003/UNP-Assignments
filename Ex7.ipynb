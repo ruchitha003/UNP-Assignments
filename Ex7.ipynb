{
  "nbformat": 4,
  "nbformat_minor": 0,
  "metadata": {
    "kernelspec": {
      "display_name": "Python 3",
      "language": "python",
      "name": "python3"
    },
    "language_info": {
      "codemirror_mode": {
        "name": "ipython",
        "version": 3
      },
      "file_extension": ".py",
      "mimetype": "text/x-python",
      "name": "python",
      "nbconvert_exporter": "python",
      "pygments_lexer": "ipython3",
      "version": "3.7.3"
    },
    "learntools_metadata": {
      "lesson_index": 6,
      "type": "exercise"
    },
    "colab": {
      "name": "Ex7.ipynb",
      "provenance": [],
      "include_colab_link": true
    }
  },
  "cells": [
    {
      "cell_type": "markdown",
      "metadata": {
        "id": "view-in-github",
        "colab_type": "text"
      },
      "source": [
        "<a href=\"https://colab.research.google.com/github/ruchitha003/UNP-Assignments/blob/main/Ex7.ipynb\" target=\"_parent\"><img src=\"https://colab.research.google.com/assets/colab-badge.svg\" alt=\"Open In Colab\"/></a>"
      ]
    },
    {
      "cell_type": "markdown",
      "metadata": {
        "id": "hQYGYthWP6PD"
      },
      "source": [
        "# Try It Yourself\n",
        "\n",
        "There are only three problems in this last set of exercises, but they're all pretty tricky, so be on guard! \n",
        "\n",
        "Run the setup code below before working on the questions."
      ]
    },
    {
      "cell_type": "code",
      "metadata": {
        "colab": {
          "base_uri": "https://localhost:8080/"
        },
        "id": "uMd_voNnP6PJ",
        "outputId": "ac7e7936-bb76-49f5-eb31-c4a0e30cc3d6"
      },
      "source": [
        "# SETUP - Refer to Ex 1\n",
        "!pip install git+https://github.com/ML-Challenge/learntools.git\n",
        "from learntools.core import binder; binder.bind(globals())\n",
        "from learntools.python.ex7 import *\n",
        "print('Setup complete.')"
      ],
      "execution_count": null,
      "outputs": [
        {
          "output_type": "stream",
          "name": "stdout",
          "text": [
            "Collecting git+https://github.com/ML-Challenge/learntools.git\n",
            "  Cloning https://github.com/ML-Challenge/learntools.git to /tmp/pip-req-build-i77rih11\n",
            "  Running command git clone -q https://github.com/ML-Challenge/learntools.git /tmp/pip-req-build-i77rih11\n",
            "Building wheels for collected packages: learntools\n",
            "  Building wheel for learntools (setup.py) ... \u001b[?25l\u001b[?25hdone\n",
            "  Created wheel for learntools: filename=learntools-0.3.4-py3-none-any.whl size=207310 sha256=bb59d31ad418e4e3bd7404eea72dd5984751d26af83e2af8d36d406b00b73933\n",
            "  Stored in directory: /tmp/pip-ephem-wheel-cache-obeq2_2x/wheels/5e/42/53/aa3198486cfc460e19152f9f799b8d0f549cb88f492acb6033\n",
            "Successfully built learntools\n",
            "Installing collected packages: learntools\n",
            "Successfully installed learntools-0.3.4\n",
            "Setup complete.\n"
          ]
        }
      ]
    },
    {
      "cell_type": "markdown",
      "metadata": {
        "id": "tJFcxHulP6PM"
      },
      "source": [
        "# 1.\n",
        "\n",
        "After completing the exercises on lists and tuples, Jimmy noticed that, according to his `estimate_average_slot_payout` function, the slot machines at the Learn Python Casino are actually rigged *against* the house, and are profitable to play in the long run.\n",
        "\n",
        "Starting with $200 in his pocket, Jimmy has played the slots 500 times, recording his new balance in a list after each spin. He used Python's `matplotlib` library to make a graph of his balance over time:"
      ]
    },
    {
      "cell_type": "code",
      "metadata": {
        "colab": {
          "base_uri": "https://localhost:8080/",
          "height": 446
        },
        "id": "BOvDtXDbP6PN",
        "outputId": "07105900-fc1d-4209-cb23-bb599809fb7c"
      },
      "source": [
        "# Import the jimmy_slots submodule\n",
        "from learntools.python import jimmy_slots\n",
        "# Call the get_graph() function to get Jimmy's graph\n",
        "graph = jimmy_slots.get_graph()\n",
        "graph"
      ],
      "execution_count": null,
      "outputs": [
        {
          "output_type": "execute_result",
          "data": {
            "text/plain": [
              "<matplotlib.axes._subplots.AxesSubplot at 0x7ff0c2d0a390>"
            ]
          },
          "metadata": {},
          "execution_count": 2
        },
        {
          "output_type": "display_data",
          "data": {
            "image/png": "[encoded data removed]",
            "text/plain": [
              "<Figure size 792x504 with 1 Axes>"
            ]
          },
          "metadata": {
            "needs_background": "light"
          }
        }
      ]
    },
    {
      "cell_type": "markdown",
      "metadata": {
        "id": "GNbMYp3AP6PO"
      },
      "source": [
        "As you can see, he's hit a bit of bad luck recently. He wants to tweet this along with some choice emojis, but, as it looks right now, his followers will probably find it confusing. He's asked if you can help him make the following changes:\n",
        "\n",
        "1. Add the title \"Results of 500 slot machine pulls\"\n",
        "2. Make the y-axis start at 0. \n",
        "3. Add the label \"Balance\" to the y-axis\n",
        "\n",
        "After calling `type(graph)` you see that Jimmy's graph is of type `matplotlib.axes._subplots.AxesSubplot`. Hm, that's a new one. By calling `dir(graph)`, you find three methods that seem like they'll be useful: `.set_title()`, `.set_ylim()`, and `.set_ylabel()`. \n",
        "\n",
        "Use these methods to complete the function `prettify_graph` according to Jimmy's requests. We've already checked off the first request for you (setting a title).\n",
        "\n",
        "(Remember: if you don't know what these methods do, use the `help()` function!)"
      ]
    },
    {
      "cell_type": "code",
      "metadata": {
        "colab": {
          "base_uri": "https://localhost:8080/",
          "height": 462
        },
        "id": "siFsTGc0P6PP",
        "outputId": "16b207c3-8278-4b3b-dbc9-c1d0c97da09c"
      },
      "source": [
        "def prettify_graph(graph):\n",
        "    \"\"\"Modify the given graph according to Jimmy's requests: add a title, make the y-axis\n",
        "    start at 0, label the y-axis. (And, if you're feeling ambitious, format the tick marks\n",
        "    as dollar amounts using the \"$\" symbol.)\n",
        "    \"\"\"\n",
        "    graph.set_title(\"Results of 500 slot machine pulls\")\n",
        "    # Complete steps 2 and 3 here\n",
        "    graph.set_ylim(bottom=0,top=None,emit=True)\n",
        "    graph.set_ylabel(\"Balance\")\n",
        "graph = jimmy_slots.get_graph()\n",
        "prettify_graph(graph)\n",
        "graph"
      ],
      "execution_count": null,
      "outputs": [
        {
          "output_type": "execute_result",
          "data": {
            "text/plain": [
              "<matplotlib.axes._subplots.AxesSubplot at 0x7ff0b74de310>"
            ]
          },
          "metadata": {},
          "execution_count": 4
        },
        {
          "output_type": "display_data",
          "data": {
            "image/png": "[encoded data removed]",
            "text/plain": [
              "<Figure size 792x504 with 1 Axes>"
            ]
          },
          "metadata": {
            "needs_background": "light"
          }
        }
      ]
    },
    {
      "cell_type": "markdown",
      "metadata": {
        "id": "Jr2NznCMP6PQ"
      },
      "source": [
        "**Bonus:** Can you format the numbers on the y-axis so they look like dollar amounts? e.g. $200 instead of just 200.\n",
        "\n",
        "(We're not going to tell you what method(s) to use here. You'll need to go digging yourself with `dir(graph)` and/or `help(graph)`.)"
      ]
    },
    {
      "cell_type": "code",
      "metadata": {
        "id": "IvoqGp4rP6PQ"
      },
      "source": [
        "# Check your answer (Run this code cell to receive credit!)\n",
        "q1.solution()"
      ],
      "execution_count": null,
      "outputs": []
    },
    {
      "cell_type": "markdown",
      "metadata": {
        "id": "2Xq0zHuhP6PS"
      },
      "source": [
        "# 2. <span title=\"Spicy\" style=\"color: coral\">🌶️🌶️</span>\n",
        "\n",
        "This is a very challenging problem.  Don't forget that you can receive a hint!\n",
        "\n",
        "Luigi is trying to perform an analysis to determine the best items for winning races on the Mario Kart circuit. He has some data in the form of lists of dictionaries that look like...\n",
        "\n",
        "    [\n",
        "        {'name': 'Peach', 'items': ['green shell', 'banana', 'green shell',], 'finish': 3},\n",
        "        {'name': 'Bowser', 'items': ['green shell',], 'finish': 1},\n",
        "        # Sometimes the racer's name wasn't recorded\n",
        "        {'name': None, 'items': ['mushroom',], 'finish': 2},\n",
        "        {'name': 'Toad', 'items': ['green shell', 'mushroom'], 'finish': 1},\n",
        "    ]\n",
        "\n",
        "`'items'` is a list of all the power-up items the racer picked up in that race, and `'finish'` was their placement in the race (1 for first place, 3 for third, etc.).\n",
        "\n",
        "He wrote the function below to take a list like this and return a dictionary mapping each item to how many times it was picked up by first-place finishers."
      ]
    },
    {
      "cell_type": "code",
      "metadata": {
        "id": "K_epLHjaP6Pi"
      },
      "source": [
        "def best_items(racers):\n",
        "    \"\"\"Given a list of racer dictionaries, return a dictionary mapping items to the number\n",
        "    of times those items were picked up by racers who finished in first place.\n",
        "    \"\"\"\n",
        "    winner_item_counts = {}\n",
        "    for i in range(len(racers)):\n",
        "        # The i'th racer dictionary\n",
        "        racer = racers[i]\n",
        "        # We're only interested in racers who finished in first\n",
        "        if racer['finish'] == 1:\n",
        "            for i in racer['items']:\n",
        "                # Add one to the count for this item (adding it to the dict if necessary)\n",
        "                if i not in winner_item_counts:\n",
        "                    winner_item_counts[i] = 0\n",
        "                winner_item_counts[i] += 1\n",
        "\n",
        "        # Data quality issues :/ Print a warning about racers with no name set. We'll take care of it later.\n",
        "        if racer['name'] is None:\n",
        "            print(\"WARNING: Encountered racer with unknown name on iteration {}/{} (racer = {})\".format(\n",
        "                i+1, len(racers), racer['name'])\n",
        "                 )\n",
        "    return winner_item_counts"
      ],
      "execution_count": null,
      "outputs": []
    },
    {
      "cell_type": "markdown",
      "metadata": {
        "id": "Gta896x7P6Pk"
      },
      "source": [
        "He tried it on a small example list above and it seemed to work correctly:"
      ]
    },
    {
      "cell_type": "code",
      "metadata": {
        "colab": {
          "base_uri": "https://localhost:8080/"
        },
        "id": "J5ohMlPgP6Pk",
        "outputId": "7e758181-1bba-4965-975d-64d4b1ddc694"
      },
      "source": [
        "sample = [\n",
        "    {'name': 'Peach', 'items': ['green shell', 'banana', 'green shell',], 'finish': 3},\n",
        "    {'name': 'Bowser', 'items': ['green shell',], 'finish': 1},\n",
        "    {'name': None, 'items': ['mushroom',], 'finish': 2},\n",
        "    {'name': 'Toad', 'items': ['green shell', 'mushroom'], 'finish': 1},\n",
        "]\n",
        "best_items(sample)"
      ],
      "execution_count": null,
      "outputs": [
        {
          "output_type": "stream",
          "name": "stdout",
          "text": [
            "WARNING: Encountered racer with unknown name on iteration 3/4 (racer = None)\n"
          ]
        },
        {
          "output_type": "execute_result",
          "data": {
            "text/plain": [
              "{'green shell': 2, 'mushroom': 1}"
            ]
          },
          "metadata": {},
          "execution_count": 7
        }
      ]
    },
    {
      "cell_type": "markdown",
      "metadata": {
        "id": "PI2iGVRGP6Pl"
      },
      "source": [
        "However, when he tried running it on his full dataset, the program crashed with a `TypeError`.\n",
        "\n",
        "Can you guess why? Try running the code cell below to see the error message Luigi is getting. Once you've identified the bug, fix it in the cell below (so that it runs without any errors)."
      ]
    },
    {
      "cell_type": "code",
      "metadata": {
        "tags": [
          "raises-exception"
        ],
        "id": "8cIWXRA6P6Pl"
      },
      "source": [
        "# Import luigi's full dataset of race data\n",
        "from learntools.python.luigi_analysis import full_dataset\n",
        "\n",
        "# Fix me!\n",
        "def best_items(racers):\n",
        "    winner_item_counts = {}\n",
        "    for i in range(len(racers)):\n",
        "        # The i'th racer dictionary\n",
        "        racer = racers[i]\n",
        "        # We're only interested in racers who finished in first\n",
        "        if racer['finish'] == 1:\n",
        "            for i in racer['items']:\n",
        "                # Add one to the count for this item (adding it to the dict if necessary)\n",
        "                if i not in winner_item_counts:\n",
        "                    winner_item_counts[i] = 0\n",
        "                winner_item_counts[i] += 1\n",
        "\n",
        "        # Data quality issues :/ Print a warning about racers with no name set. We'll take care of it later.\n",
        "        if racer['name'] is None:\n",
        "            print(\"WARNING: Encountered racer with unknown name on iteration {}/{} (racer = {})\".format(\n",
        "                i+1, len(racers), racer['name'])\n",
        "                 )\n",
        "    return winner_item_counts\n",
        "\n",
        "# Try analyzing the imported full dataset\n",
        "best_items(full_dataset)"
      ],
      "execution_count": null,
      "outputs": []
    },
    {
      "cell_type": "code",
      "metadata": {
        "id": "7Dbk476XP6Pm"
      },
      "source": [
        "#q2.hint()"
      ],
      "execution_count": null,
      "outputs": []
    },
    {
      "cell_type": "code",
      "metadata": {
        "colab": {
          "base_uri": "https://localhost:8080/",
          "height": 186
        },
        "id": "72fl9ZlpP6Pn",
        "outputId": "5fc6893f-4759-4ecc-f1f1-2dc3224028d7"
      },
      "source": [
        "# Check your answer (Run this code cell to receive credit!)\n",
        "q2.solution()"
      ],
      "execution_count": null,
      "outputs": [
        {
          "output_type": "display_data",
          "data": {
            "application/javascript": [
              "parent.postMessage({\"jupyterEvent\": \"custom.exercise_interaction\", \"data\": {\"interactionType\": 3, \"questionType\": 4, \"questionId\": \"2_LuigiAnalysis\", \"learnToolsVersion\": \"0.3.4\", \"valueTowardsCompletion\": 0.0, \"failureMessage\": \"\", \"exceptionClass\": \"\", \"trace\": \"\", \"outcomeType\": 4}}, \"*\")"
            ],
            "text/plain": [
              "<IPython.core.display.Javascript object>"
            ]
          },
          "metadata": {}
        },
        {
          "output_type": "display_data",
          "data": {
            "text/markdown": "<span style=\"color:#33cc99\">Solution:</span> Luigi used the variable name `i` to represent each item in racer['items'].\nHowever, he also used `i` as the loop variable for the outer loop (`for i in range(len(racers))`).\nThese i's are clobbering each other. This becomes a problem only if we encounter a racer\nwith a finish of 1 and a name of `None`. If that happens, when we try to print the \"WARNING\" message,\n`i` refers to a string like \"green shell\", which python can't add to an integer, hence a `TypeError`.\n\nThis is similar to the issue we saw when we imported * from `math` and `numpy`. They both contained variables called `log`, and the one we got when we tried to call it was the wrong one.\n\nWe can fix this by using different loop variables for the inner and outer loops. `i` wasn't a very\ngood variable name for the inner loop anyways. `for item in racer['items']` fixes the bug and is \neasier to read.\n\nVariable shadowing bugs like this don't come up super often, but when they do they can take an infuriating amount of time to diagnose!\n",
            "text/plain": [
              "Solution: Luigi used the variable name `i` to represent each item in racer['items'].\n",
              "However, he also used `i` as the loop variable for the outer loop (`for i in range(len(racers))`).\n",
              "These i's are clobbering each other. This becomes a problem only if we encounter a racer\n",
              "with a finish of 1 and a name of `None`. If that happens, when we try to print the \"WARNING\" message,\n",
              "`i` refers to a string like \"green shell\", which python can't add to an integer, hence a `TypeError`.\n",
              "\n",
              "This is similar to the issue we saw when we imported * from `math` and `numpy`. They both contained variables called `log`, and the one we got when we tried to call it was the wrong one.\n",
              "\n",
              "We can fix this by using different loop variables for the inner and outer loops. `i` wasn't a very\n",
              "good variable name for the inner loop anyways. `for item in racer['items']` fixes the bug and is \n",
              "easier to read.\n",
              "\n",
              "Variable shadowing bugs like this don't come up super often, but when they do they can take an infuriating amount of time to diagnose!"
            ]
          },
          "metadata": {}
        }
      ]
    },
    {
      "cell_type": "markdown",
      "metadata": {
        "id": "OMPZC7JIP6Pn"
      },
      "source": [
        "# 3. <span title=\"A bit spicy\" style=\"color: darkgreen \">🌶️</span>\n",
        "\n",
        "Suppose we wanted to create a new type to represent hands in blackjack. One thing we might want to do with this type is overload the comparison operators like `>` and `<=` so that we could use them to check whether one hand beats another. e.g. it'd be cool if we could do this:\n",
        "\n",
        "```python\n",
        ">>> hand1 = BlackjackHand(['K', 'A'])\n",
        ">>> hand2 = BlackjackHand(['7', '10', 'A'])\n",
        ">>> hand1 > hand2\n",
        "True\n",
        "```\n",
        "\n",
        "Well, we're not going to do all that in this question (defining custom classes is a bit beyond the scope of these lessons), but the code we're asking you to write in the function below is very similar to what we'd have to write if we were defining our own `BlackjackHand` class. (We'd put it in the `__gt__` magic method to define our custom behaviour for `>`.)\n",
        "\n",
        "Fill in the body of the `blackjack_hand_greater_than` function according to the docstring."
      ]
    },
    {
      "cell_type": "code",
      "metadata": {
        "id": "J4XFZwPuP6Pp"
      },
      "source": [
        "def blackjack_hand_greater_than(hand_1, hand_2):\n",
        "    \"\"\"\n",
        "    Return True if hand_1 beats hand_2, and False otherwise.\n",
        "    \n",
        "    In order for hand_1 to beat hand_2 the following must be true:\n",
        "    - The total of hand_1 must not exceed 21\n",
        "    - The total of hand_1 must exceed the total of hand_2 OR hand_2's total must exceed 21\n",
        "    \n",
        "    Hands are represented as a list of cards. Each card is represented by a string.\n",
        "    \n",
        "    When adding up a hand's total, cards with numbers count for that many points. Face\n",
        "    cards ('J', 'Q', and 'K') are worth 10 points. 'A' can count for 1 or 11.\n",
        "    \n",
        "    When determining a hand's total, you should try to count aces in the way that \n",
        "    maximizes the hand's total without going over 21. e.g. the total of ['A', 'A', '9'] is 21,\n",
        "    the total of ['A', 'A', '9', '3'] is 14.\n",
        "    \n",
        "    Examples:\n",
        "    >>> blackjack_hand_greater_than(['K'], ['3', '4'])\n",
        "    True\n",
        "    >>> blackjack_hand_greater_than(['K'], ['10'])\n",
        "    False\n",
        "    >>> blackjack_hand_greater_than(['K', 'K', '2'], ['3'])\n",
        "    False\n",
        "    \"\"\"\n",
        "    pass\n",
        "\n",
        "# Check your answer\n",
        "q3.check()"
      ],
      "execution_count": null,
      "outputs": []
    },
    {
      "cell_type": "code",
      "metadata": {
        "id": "pCU7H4sHP6Pq"
      },
      "source": [
        "#q3.hint()\n",
        "#q3.solution()"
      ],
      "execution_count": null,
      "outputs": []
    },
    {
      "cell_type": "markdown",
      "metadata": {
        "id": "TgElFoMLP6Pr"
      },
      "source": [
        "# The End\n",
        "\n",
        "You've finished the Python course. Congrats!\n",
        "\n",
        "Happy Pythoning!"
      ]
    }
  ]
}